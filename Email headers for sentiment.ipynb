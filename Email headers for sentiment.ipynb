{
 "cells": [
  {
   "cell_type": "code",
   "execution_count": 1,
   "metadata": {},
   "outputs": [],
   "source": [
    "import pandas as pd\n",
    "import numpy as np\n"
   ]
  },
  {
   "cell_type": "code",
   "execution_count": 3,
   "metadata": {},
   "outputs": [],
   "source": [
    "df1 = pd.read_csv('/Users/yanasotirova/Desktop/emails.csv')"
   ]
  },
  {
   "cell_type": "code",
   "execution_count": 18,
   "metadata": {},
   "outputs": [],
   "source": [
    "email_string = df1['message'][0]\n",
    "email_subjects = []\n",
    "for rec in df1['message'][90:110]: #--> delete the slicing to run on the whole dataset\n",
    "# Split the email string by newline character (\\n) to get each line as a separate element in a list\n",
    "    email_lines = rec.split('\\n')\n",
    "    # Loop through each line in the email to find the \"Subject\" line\n",
    "    for line in email_lines:\n",
    "        if line.startswith(\"Subject:\"):\n",
    "            subject = line.replace(\"Subject:\", \"\").strip()  # Extract the subject by removing the \"Subject:\" tag and any extra whitespace\n",
    "            email_subjects.append(subject)\n",
    "            break\n",
    "\n",
    "# df1['subject'] = email_subjects # --> uncomment when running on the whole dataset"
   ]
  },
  {
   "cell_type": "code",
   "execution_count": 19,
   "metadata": {},
   "outputs": [
    {
     "data": {
      "text/plain": [
       "['Re: ENA Fileplan Project - Needs your approval',\n",
       " 'Re: checkbook and budget',\n",
       " '',\n",
       " '',\n",
       " 'Request from Steve Kean',\n",
       " '',\n",
       " 'Daily Duties',\n",
       " 'Daily Report',\n",
       " 'Daily Report',\n",
       " 'Re: enron close to 85',\n",
       " 'Re:',\n",
       " 'ENA Management Committee',\n",
       " 'Re:',\n",
       " '',\n",
       " 'Re: Your approval is requested',\n",
       " 'Request from Steve Kean',\n",
       " 'tv on 33',\n",
       " 'Re: Ad Hoc VaR model',\n",
       " 'TRANSPORTATION MODEL',\n",
       " 'Re: TRANSPORTATION MODEL']"
      ]
     },
     "execution_count": 19,
     "metadata": {},
     "output_type": "execute_result"
    }
   ],
   "source": [
    "email_subjects"
   ]
  },
  {
   "cell_type": "code",
   "execution_count": null,
   "metadata": {},
   "outputs": [],
   "source": []
  }
 ],
 "metadata": {
  "kernelspec": {
   "display_name": "Python 3",
   "language": "python",
   "name": "python3"
  },
  "language_info": {
   "codemirror_mode": {
    "name": "ipython",
    "version": 3
   },
   "file_extension": ".py",
   "mimetype": "text/x-python",
   "name": "python",
   "nbconvert_exporter": "python",
   "pygments_lexer": "ipython3",
   "version": "3.8.5"
  }
 },
 "nbformat": 4,
 "nbformat_minor": 4
}
