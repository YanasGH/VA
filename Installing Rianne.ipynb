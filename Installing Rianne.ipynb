{
 "cells": [
  {
   "cell_type": "code",
   "execution_count": 1,
   "metadata": {},
   "outputs": [
    {
     "ename": "ModuleNotFoundError",
     "evalue": "No module named 'networkx'",
     "output_type": "error",
     "traceback": [
      "\u001b[1;31m---------------------------------------------------------------------------\u001b[0m",
      "\u001b[1;31mModuleNotFoundError\u001b[0m                       Traceback (most recent call last)",
      "Cell \u001b[1;32mIn[1], line 1\u001b[0m\n\u001b[1;32m----> 1\u001b[0m \u001b[39mimport\u001b[39;00m \u001b[39mnetworkx\u001b[39;00m \u001b[39mas\u001b[39;00m \u001b[39mnx\u001b[39;00m \n\u001b[0;32m      2\u001b[0m \u001b[39mfrom\u001b[39;00m \u001b[39mcolour\u001b[39;00m \u001b[39mimport\u001b[39;00m Color\n\u001b[0;32m      3\u001b[0m \u001b[39mimport\u001b[39;00m \u001b[39mholoviews\u001b[39;00m \u001b[39mas\u001b[39;00m \u001b[39mhv\u001b[39;00m\n",
      "\u001b[1;31mModuleNotFoundError\u001b[0m: No module named 'networkx'"
     ]
    }
   ],
   "source": [
    "# import networkx as nx \n",
    "# from colour import Color\n",
    "# import holoviews as hv\n",
    "# from holoviews import opts, dim\n",
    "# from bokeh.models import HoverTool\n",
    "# from bokeh.themes import Theme\n",
    "# from nltk.sentiment import SentimentIntensityAnalyzer"
   ]
  },
  {
   "cell_type": "code",
   "execution_count": 2,
   "metadata": {},
   "outputs": [
    {
     "name": "stdout",
     "output_type": "stream",
     "text": [
      "Collecting networkx\n",
      "  Using cached networkx-3.0-py3-none-any.whl (2.0 MB)\n",
      "Collecting colour\n",
      "  Using cached colour-0.1.5-py2.py3-none-any.whl (23 kB)\n",
      "Collecting holoviews\n",
      "  Using cached holoviews-1.15.4-py2.py3-none-any.whl (4.3 MB)\n",
      "Collecting bokeh\n",
      "  Downloading bokeh-3.1.0-py3-none-any.whl (8.3 MB)\n",
      "     ---------------------------------------- 0.0/8.3 MB ? eta -:--:--\n",
      "     - -------------------------------------- 0.4/8.3 MB 8.1 MB/s eta 0:00:01\n",
      "     ----- ---------------------------------- 1.0/8.3 MB 11.1 MB/s eta 0:00:01\n",
      "     -------- ------------------------------- 1.7/8.3 MB 11.8 MB/s eta 0:00:01\n",
      "     ----------- ---------------------------- 2.3/8.3 MB 13.5 MB/s eta 0:00:01\n",
      "     -------------- ------------------------- 3.0/8.3 MB 12.8 MB/s eta 0:00:01\n",
      "     ------------------ --------------------- 3.8/8.3 MB 13.6 MB/s eta 0:00:01\n",
      "     ---------------------- ----------------- 4.7/8.3 MB 14.4 MB/s eta 0:00:01\n",
      "     ---------------------------- ----------- 5.9/8.3 MB 15.1 MB/s eta 0:00:01\n",
      "     ------------------------------- -------- 6.6/8.3 MB 15.1 MB/s eta 0:00:01\n",
      "     ----------------------------------- ---- 7.3/8.3 MB 15.6 MB/s eta 0:00:01\n",
      "     ---------------------------------------  8.2/8.3 MB 15.4 MB/s eta 0:00:01\n",
      "     ---------------------------------------  8.3/8.3 MB 15.5 MB/s eta 0:00:01\n",
      "     ---------------------------------------- 8.3/8.3 MB 13.2 MB/s eta 0:00:00\n",
      "Collecting nltk\n",
      "  Using cached nltk-3.8.1-py3-none-any.whl (1.5 MB)\n",
      "Collecting pyviz-comms>=0.7.4\n",
      "  Using cached pyviz_comms-2.2.1-py2.py3-none-any.whl (42 kB)\n",
      "Requirement already satisfied: packaging in c:\\users\\20193635\\desktop\\va\\.venv\\lib\\site-packages (from holoviews->-r new_requirements.txt (line 3)) (23.0)\n",
      "Collecting colorcet\n",
      "  Using cached colorcet-3.0.1-py2.py3-none-any.whl (1.7 MB)\n",
      "Requirement already satisfied: numpy>=1.0 in c:\\users\\20193635\\desktop\\va\\.venv\\lib\\site-packages (from holoviews->-r new_requirements.txt (line 3)) (1.18.4)\n",
      "Requirement already satisfied: pandas>=0.20.0 in c:\\users\\20193635\\desktop\\va\\.venv\\lib\\site-packages (from holoviews->-r new_requirements.txt (line 3)) (1.0.3)\n",
      "Collecting panel>=0.13.1\n",
      "  Using cached panel-0.14.4-py2.py3-none-any.whl (20.8 MB)\n",
      "Collecting param<2.0,>=1.9.3\n",
      "  Using cached param-1.13.0-py2.py3-none-any.whl (87 kB)\n",
      "Collecting pandas>=0.20.0\n",
      "  Using cached pandas-1.5.3-cp38-cp38-win_amd64.whl (11.0 MB)\n",
      "Collecting xyzservices>=2021.09.1\n",
      "  Using cached xyzservices-2023.2.0-py3-none-any.whl (55 kB)\n",
      "Collecting PyYAML>=3.10\n",
      "  Using cached PyYAML-6.0-cp38-cp38-win_amd64.whl (155 kB)\n",
      "Requirement already satisfied: tornado>=5.1 in c:\\users\\20193635\\desktop\\va\\.venv\\lib\\site-packages (from bokeh->-r new_requirements.txt (line 4)) (6.2)\n",
      "Collecting pillow>=7.1.0\n",
      "  Using cached Pillow-9.4.0-cp38-cp38-win_amd64.whl (2.5 MB)\n",
      "Collecting contourpy>=1\n",
      "  Using cached contourpy-1.0.7-cp38-cp38-win_amd64.whl (162 kB)\n",
      "Requirement already satisfied: Jinja2>=2.9 in c:\\users\\20193635\\desktop\\va\\.venv\\lib\\site-packages (from bokeh->-r new_requirements.txt (line 4)) (2.11.2)\n",
      "Collecting tqdm\n",
      "  Using cached tqdm-4.65.0-py3-none-any.whl (77 kB)\n",
      "Collecting regex>=2021.8.3\n",
      "  Downloading regex-2023.3.23-cp38-cp38-win_amd64.whl (267 kB)\n",
      "     ---------------------------------------- 0.0/267.9 kB ? eta -:--:--\n",
      "     -------------------------------------- 267.9/267.9 kB 8.3 MB/s eta 0:00:00\n",
      "Collecting joblib\n",
      "  Using cached joblib-1.2.0-py3-none-any.whl (297 kB)\n",
      "Requirement already satisfied: click in c:\\users\\20193635\\desktop\\va\\.venv\\lib\\site-packages (from nltk->-r new_requirements.txt (line 5)) (7.1.2)\n",
      "Requirement already satisfied: MarkupSafe>=0.23 in c:\\users\\20193635\\desktop\\va\\.venv\\lib\\site-packages (from Jinja2>=2.9->bokeh->-r new_requirements.txt (line 4)) (1.1.1)\n",
      "Requirement already satisfied: python-dateutil>=2.8.1 in c:\\users\\20193635\\desktop\\va\\.venv\\lib\\site-packages (from pandas>=0.20.0->holoviews->-r new_requirements.txt (line 3)) (2.8.2)\n",
      "Requirement already satisfied: pytz>=2020.1 in c:\\users\\20193635\\desktop\\va\\.venv\\lib\\site-packages (from pandas>=0.20.0->holoviews->-r new_requirements.txt (line 3)) (2020.1)\n",
      "Collecting numpy>=1.0\n",
      "  Using cached numpy-1.24.2-cp38-cp38-win_amd64.whl (14.9 MB)\n",
      "Collecting requests\n",
      "  Using cached requests-2.28.2-py3-none-any.whl (62 kB)\n",
      "Collecting pyct>=0.4.4\n",
      "  Using cached pyct-0.5.0-py2.py3-none-any.whl (15 kB)\n",
      "Collecting bleach\n",
      "  Using cached bleach-6.0.0-py3-none-any.whl (162 kB)\n",
      "Collecting markdown\n",
      "  Downloading Markdown-3.4.3-py3-none-any.whl (93 kB)\n",
      "     ---------------------------------------- 0.0/93.9 kB ? eta -:--:--\n",
      "     ---------------------------------------- 93.9/93.9 kB 5.2 MB/s eta 0:00:00\n",
      "Collecting bokeh\n",
      "  Using cached bokeh-2.4.3-py3-none-any.whl (18.5 MB)\n",
      "Collecting typing-extensions\n",
      "  Using cached typing_extensions-4.5.0-py3-none-any.whl (27 kB)\n",
      "Requirement already satisfied: setuptools>=42 in c:\\users\\20193635\\desktop\\va\\.venv\\lib\\site-packages (from panel>=0.13.1->holoviews->-r new_requirements.txt (line 3)) (56.0.0)\n",
      "Requirement already satisfied: colorama in c:\\users\\20193635\\desktop\\va\\.venv\\lib\\site-packages (from tqdm->nltk->-r new_requirements.txt (line 5)) (0.4.6)\n",
      "Requirement already satisfied: six>=1.5 in c:\\users\\20193635\\desktop\\va\\.venv\\lib\\site-packages (from python-dateutil>=2.8.1->pandas>=0.20.0->holoviews->-r new_requirements.txt (line 3)) (1.14.0)\n",
      "Collecting webencodings\n",
      "  Using cached webencodings-0.5.1-py2.py3-none-any.whl (11 kB)\n",
      "Requirement already satisfied: importlib-metadata>=4.4 in c:\\users\\20193635\\desktop\\va\\.venv\\lib\\site-packages (from markdown->panel>=0.13.1->holoviews->-r new_requirements.txt (line 3)) (6.1.0)\n",
      "Collecting urllib3<1.27,>=1.21.1\n",
      "  Using cached urllib3-1.26.15-py2.py3-none-any.whl (140 kB)\n",
      "Collecting idna<4,>=2.5\n",
      "  Using cached idna-3.4-py3-none-any.whl (61 kB)\n",
      "Collecting charset-normalizer<4,>=2\n",
      "  Using cached charset_normalizer-3.1.0-cp38-cp38-win_amd64.whl (96 kB)\n",
      "Collecting certifi>=2017.4.17\n",
      "  Using cached certifi-2022.12.7-py3-none-any.whl (155 kB)\n",
      "Requirement already satisfied: zipp>=0.5 in c:\\users\\20193635\\desktop\\va\\.venv\\lib\\site-packages (from importlib-metadata>=4.4->markdown->panel>=0.13.1->holoviews->-r new_requirements.txt (line 3)) (3.15.0)\n",
      "Installing collected packages: webencodings, colour, urllib3, typing-extensions, tqdm, regex, PyYAML, pillow, param, numpy, networkx, joblib, idna, charset-normalizer, certifi, bleach, requests, pyviz-comms, pyct, pandas, nltk, markdown, bokeh, panel, colorcet, holoviews\n",
      "  Attempting uninstall: numpy\n",
      "    Found existing installation: numpy 1.18.4\n",
      "    Uninstalling numpy-1.18.4:\n",
      "      Successfully uninstalled numpy-1.18.4\n",
      "  Attempting uninstall: pandas\n",
      "    Found existing installation: pandas 1.0.3\n",
      "    Uninstalling pandas-1.0.3:\n",
      "      Successfully uninstalled pandas-1.0.3\n",
      "Successfully installed PyYAML-6.0 bleach-6.0.0 bokeh-2.4.3 certifi-2022.12.7 charset-normalizer-3.1.0 colorcet-3.0.1 colour-0.1.5 holoviews-1.15.4 idna-3.4 joblib-1.2.0 markdown-3.4.3 networkx-3.0 nltk-3.8.1 numpy-1.24.2 pandas-1.5.3 panel-0.14.4 param-1.13.0 pillow-9.4.0 pyct-0.5.0 pyviz-comms-2.2.1 regex-2023.3.23 requests-2.28.2 tqdm-4.65.0 typing-extensions-4.5.0 urllib3-1.26.15 webencodings-0.5.1\n",
      "Note: you may need to restart the kernel to use updated packages.\n"
     ]
    }
   ],
   "source": [
    "pip install -r new_requirements.txt"
   ]
  },
  {
   "cell_type": "code",
   "execution_count": 1,
   "metadata": {},
   "outputs": [
    {
     "data": {
      "text/plain": [
       "'1.18.4'"
      ]
     },
     "execution_count": 1,
     "metadata": {},
     "output_type": "execute_result"
    }
   ],
   "source": [
    "import numpy\n",
    "numpy.__version__"
   ]
  },
  {
   "cell_type": "code",
   "execution_count": 4,
   "metadata": {},
   "outputs": [
    {
     "name": "stdout",
     "output_type": "stream",
     "text": [
      "Collecting numpy==1.18.4\n",
      "  Using cached numpy-1.18.4-cp38-cp38-win_amd64.whl (12.8 MB)\n",
      "Installing collected packages: numpy\n",
      "  Attempting uninstall: numpy\n",
      "    Found existing installation: numpy 1.24.2\n",
      "    Uninstalling numpy-1.24.2:\n",
      "      Successfully uninstalled numpy-1.24.2\n",
      "Note: you may need to restart the kernel to use updated packages.\n"
     ]
    },
    {
     "name": "stderr",
     "output_type": "stream",
     "text": [
      "ERROR: Could not install packages due to an OSError: [WinError 5] Access is denied: 'C:\\\\Users\\\\20193635\\\\Desktop\\\\VA\\\\.venv\\\\Lib\\\\site-packages\\\\~umpy\\\\.libs\\\\libopenblas64__v0.3.21-gcc_10_3_0.dll'\n",
      "Check the permissions.\n",
      "\n"
     ]
    }
   ],
   "source": [
    "pip install numpy==1.18.4 # used to be 1.23 or something. "
   ]
  },
  {
   "cell_type": "code",
   "execution_count": 3,
   "metadata": {},
   "outputs": [
    {
     "name": "stdout",
     "output_type": "stream",
     "text": [
      "Collecting pandas==1.0.3\n",
      "  Using cached pandas-1.0.3-cp38-cp38-win_amd64.whl (8.9 MB)\n",
      "Requirement already satisfied: python-dateutil>=2.6.1 in c:\\users\\20193635\\desktop\\va\\.venv\\lib\\site-packages (from pandas==1.0.3) (2.8.2)\n",
      "Requirement already satisfied: numpy>=1.13.3 in c:\\users\\20193635\\desktop\\va\\.venv\\lib\\site-packages (from pandas==1.0.3) (1.18.4)\n",
      "Requirement already satisfied: pytz>=2017.2 in c:\\users\\20193635\\desktop\\va\\.venv\\lib\\site-packages (from pandas==1.0.3) (2020.1)\n",
      "Requirement already satisfied: six>=1.5 in c:\\users\\20193635\\desktop\\va\\.venv\\lib\\site-packages (from python-dateutil>=2.6.1->pandas==1.0.3) (1.14.0)\n",
      "Installing collected packages: pandas\n",
      "  Attempting uninstall: pandas\n",
      "    Found existing installation: pandas 1.5.3\n",
      "    Uninstalling pandas-1.5.3:\n",
      "      Successfully uninstalled pandas-1.5.3\n",
      "Note: you may need to restart the kernel to use updated packages.\n"
     ]
    },
    {
     "name": "stderr",
     "output_type": "stream",
     "text": [
      "ERROR: Could not install packages due to an OSError: [WinError 5] Access is denied: 'C:\\\\Users\\\\20193635\\\\Desktop\\\\VA\\\\.venv\\\\Lib\\\\site-packages\\\\~andas\\\\_libs\\\\algos.cp38-win_amd64.pyd'\n",
      "Check the permissions.\n",
      "\n"
     ]
    }
   ],
   "source": [
    "pip install pandas==1.0.3 "
   ]
  },
  {
   "cell_type": "code",
   "execution_count": 4,
   "metadata": {},
   "outputs": [
    {
     "ename": "ImportError",
     "evalue": "cannot import name '_NS_DTYPE' from 'pandas.core.dtypes.common' (c:\\Users\\20193635\\Desktop\\VA\\.venv\\lib\\site-packages\\pandas\\core\\dtypes\\common.py)",
     "output_type": "error",
     "traceback": [
      "\u001b[1;31m---------------------------------------------------------------------------\u001b[0m",
      "\u001b[1;31mImportError\u001b[0m                               Traceback (most recent call last)",
      "Cell \u001b[1;32mIn[4], line 1\u001b[0m\n\u001b[1;32m----> 1\u001b[0m \u001b[39mimport\u001b[39;00m \u001b[39mpandas\u001b[39;00m \u001b[39m#pandas ver\u001b[39;00m\n\u001b[0;32m      2\u001b[0m pandas\u001b[39m.\u001b[39m__version__\n",
      "File \u001b[1;32mc:\\Users\\20193635\\Desktop\\VA\\.venv\\lib\\site-packages\\pandas\\__init__.py:55\u001b[0m\n\u001b[0;32m     52\u001b[0m \u001b[39m# let init-time option registration happen\u001b[39;00m\n\u001b[0;32m     53\u001b[0m \u001b[39mimport\u001b[39;00m \u001b[39mpandas\u001b[39;00m\u001b[39m.\u001b[39;00m\u001b[39mcore\u001b[39;00m\u001b[39m.\u001b[39;00m\u001b[39mconfig_init\u001b[39;00m\n\u001b[1;32m---> 55\u001b[0m \u001b[39mfrom\u001b[39;00m \u001b[39mpandas\u001b[39;00m\u001b[39m.\u001b[39;00m\u001b[39mcore\u001b[39;00m\u001b[39m.\u001b[39;00m\u001b[39mapi\u001b[39;00m \u001b[39mimport\u001b[39;00m (\n\u001b[0;32m     56\u001b[0m     \u001b[39m# dtype\u001b[39;00m\n\u001b[0;32m     57\u001b[0m     Int8Dtype,\n\u001b[0;32m     58\u001b[0m     Int16Dtype,\n\u001b[0;32m     59\u001b[0m     Int32Dtype,\n\u001b[0;32m     60\u001b[0m     Int64Dtype,\n\u001b[0;32m     61\u001b[0m     UInt8Dtype,\n\u001b[0;32m     62\u001b[0m     UInt16Dtype,\n\u001b[0;32m     63\u001b[0m     UInt32Dtype,\n\u001b[0;32m     64\u001b[0m     UInt64Dtype,\n\u001b[0;32m     65\u001b[0m     CategoricalDtype,\n\u001b[0;32m     66\u001b[0m     PeriodDtype,\n\u001b[0;32m     67\u001b[0m     IntervalDtype,\n\u001b[0;32m     68\u001b[0m     DatetimeTZDtype,\n\u001b[0;32m     69\u001b[0m     StringDtype,\n\u001b[0;32m     70\u001b[0m     BooleanDtype,\n\u001b[0;32m     71\u001b[0m     \u001b[39m# missing\u001b[39;00m\n\u001b[0;32m     72\u001b[0m     NA,\n\u001b[0;32m     73\u001b[0m     isna,\n\u001b[0;32m     74\u001b[0m     isnull,\n\u001b[0;32m     75\u001b[0m     notna,\n\u001b[0;32m     76\u001b[0m     notnull,\n\u001b[0;32m     77\u001b[0m     \u001b[39m# indexes\u001b[39;00m\n\u001b[0;32m     78\u001b[0m     Index,\n\u001b[0;32m     79\u001b[0m     CategoricalIndex,\n\u001b[0;32m     80\u001b[0m     Int64Index,\n\u001b[0;32m     81\u001b[0m     UInt64Index,\n\u001b[0;32m     82\u001b[0m     RangeIndex,\n\u001b[0;32m     83\u001b[0m     Float64Index,\n\u001b[0;32m     84\u001b[0m     MultiIndex,\n\u001b[0;32m     85\u001b[0m     IntervalIndex,\n\u001b[0;32m     86\u001b[0m     TimedeltaIndex,\n\u001b[0;32m     87\u001b[0m     DatetimeIndex,\n\u001b[0;32m     88\u001b[0m     PeriodIndex,\n\u001b[0;32m     89\u001b[0m     IndexSlice,\n\u001b[0;32m     90\u001b[0m     \u001b[39m# tseries\u001b[39;00m\n\u001b[0;32m     91\u001b[0m     NaT,\n\u001b[0;32m     92\u001b[0m     Period,\n\u001b[0;32m     93\u001b[0m     period_range,\n\u001b[0;32m     94\u001b[0m     Timedelta,\n\u001b[0;32m     95\u001b[0m     timedelta_range,\n\u001b[0;32m     96\u001b[0m     Timestamp,\n\u001b[0;32m     97\u001b[0m     date_range,\n\u001b[0;32m     98\u001b[0m     bdate_range,\n\u001b[0;32m     99\u001b[0m     Interval,\n\u001b[0;32m    100\u001b[0m     interval_range,\n\u001b[0;32m    101\u001b[0m     DateOffset,\n\u001b[0;32m    102\u001b[0m     \u001b[39m# conversion\u001b[39;00m\n\u001b[0;32m    103\u001b[0m     to_numeric,\n\u001b[0;32m    104\u001b[0m     to_datetime,\n\u001b[0;32m    105\u001b[0m     to_timedelta,\n\u001b[0;32m    106\u001b[0m     \u001b[39m# misc\u001b[39;00m\n\u001b[0;32m    107\u001b[0m     Grouper,\n\u001b[0;32m    108\u001b[0m     factorize,\n\u001b[0;32m    109\u001b[0m     unique,\n\u001b[0;32m    110\u001b[0m     value_counts,\n\u001b[0;32m    111\u001b[0m     NamedAgg,\n\u001b[0;32m    112\u001b[0m     array,\n\u001b[0;32m    113\u001b[0m     Categorical,\n\u001b[0;32m    114\u001b[0m     set_eng_float_format,\n\u001b[0;32m    115\u001b[0m     Series,\n\u001b[0;32m    116\u001b[0m     DataFrame,\n\u001b[0;32m    117\u001b[0m )\n\u001b[0;32m    119\u001b[0m \u001b[39mfrom\u001b[39;00m \u001b[39mpandas\u001b[39;00m\u001b[39m.\u001b[39;00m\u001b[39mcore\u001b[39;00m\u001b[39m.\u001b[39;00m\u001b[39marrays\u001b[39;00m\u001b[39m.\u001b[39;00m\u001b[39msparse\u001b[39;00m \u001b[39mimport\u001b[39;00m SparseDtype\n\u001b[0;32m    121\u001b[0m \u001b[39mfrom\u001b[39;00m \u001b[39mpandas\u001b[39;00m\u001b[39m.\u001b[39;00m\u001b[39mtseries\u001b[39;00m\u001b[39m.\u001b[39;00m\u001b[39mapi\u001b[39;00m \u001b[39mimport\u001b[39;00m infer_freq\n",
      "File \u001b[1;32mc:\\Users\\20193635\\Desktop\\VA\\.venv\\lib\\site-packages\\pandas\\core\\api.py:12\u001b[0m\n\u001b[0;32m      4\u001b[0m \u001b[39mfrom\u001b[39;00m \u001b[39mpandas\u001b[39;00m\u001b[39m.\u001b[39;00m\u001b[39m_libs\u001b[39;00m\u001b[39m.\u001b[39;00m\u001b[39mmissing\u001b[39;00m \u001b[39mimport\u001b[39;00m NA\n\u001b[0;32m      6\u001b[0m \u001b[39mfrom\u001b[39;00m \u001b[39mpandas\u001b[39;00m\u001b[39m.\u001b[39;00m\u001b[39mcore\u001b[39;00m\u001b[39m.\u001b[39;00m\u001b[39mdtypes\u001b[39;00m\u001b[39m.\u001b[39;00m\u001b[39mdtypes\u001b[39;00m \u001b[39mimport\u001b[39;00m (\n\u001b[0;32m      7\u001b[0m     CategoricalDtype,\n\u001b[0;32m      8\u001b[0m     DatetimeTZDtype,\n\u001b[0;32m      9\u001b[0m     IntervalDtype,\n\u001b[0;32m     10\u001b[0m     PeriodDtype,\n\u001b[0;32m     11\u001b[0m )\n\u001b[1;32m---> 12\u001b[0m \u001b[39mfrom\u001b[39;00m \u001b[39mpandas\u001b[39;00m\u001b[39m.\u001b[39;00m\u001b[39mcore\u001b[39;00m\u001b[39m.\u001b[39;00m\u001b[39mdtypes\u001b[39;00m\u001b[39m.\u001b[39;00m\u001b[39mmissing\u001b[39;00m \u001b[39mimport\u001b[39;00m isna, isnull, notna, notnull\n\u001b[0;32m     14\u001b[0m \u001b[39mfrom\u001b[39;00m \u001b[39mpandas\u001b[39;00m\u001b[39m.\u001b[39;00m\u001b[39mcore\u001b[39;00m\u001b[39m.\u001b[39;00m\u001b[39malgorithms\u001b[39;00m \u001b[39mimport\u001b[39;00m factorize, unique, value_counts\n\u001b[0;32m     15\u001b[0m \u001b[39mfrom\u001b[39;00m \u001b[39mpandas\u001b[39;00m\u001b[39m.\u001b[39;00m\u001b[39mcore\u001b[39;00m\u001b[39m.\u001b[39;00m\u001b[39marrays\u001b[39;00m \u001b[39mimport\u001b[39;00m Categorical\n",
      "File \u001b[1;32mc:\\Users\\20193635\\Desktop\\VA\\.venv\\lib\\site-packages\\pandas\\core\\dtypes\\missing.py:12\u001b[0m\n\u001b[0;32m      9\u001b[0m \u001b[39mimport\u001b[39;00m \u001b[39mpandas\u001b[39;00m\u001b[39m.\u001b[39;00m\u001b[39m_libs\u001b[39;00m\u001b[39m.\u001b[39;00m\u001b[39mmissing\u001b[39;00m \u001b[39mas\u001b[39;00m \u001b[39mlibmissing\u001b[39;00m\n\u001b[0;32m     10\u001b[0m \u001b[39mfrom\u001b[39;00m \u001b[39mpandas\u001b[39;00m\u001b[39m.\u001b[39;00m\u001b[39m_libs\u001b[39;00m\u001b[39m.\u001b[39;00m\u001b[39mtslibs\u001b[39;00m \u001b[39mimport\u001b[39;00m NaT, iNaT\n\u001b[1;32m---> 12\u001b[0m \u001b[39mfrom\u001b[39;00m \u001b[39mpandas\u001b[39;00m\u001b[39m.\u001b[39;00m\u001b[39mcore\u001b[39;00m\u001b[39m.\u001b[39;00m\u001b[39mdtypes\u001b[39;00m\u001b[39m.\u001b[39;00m\u001b[39mcommon\u001b[39;00m \u001b[39mimport\u001b[39;00m (\n\u001b[0;32m     13\u001b[0m     _NS_DTYPE,\n\u001b[0;32m     14\u001b[0m     _TD_DTYPE,\n\u001b[0;32m     15\u001b[0m     ensure_object,\n\u001b[0;32m     16\u001b[0m     is_bool_dtype,\n\u001b[0;32m     17\u001b[0m     is_complex_dtype,\n\u001b[0;32m     18\u001b[0m     is_datetime64_dtype,\n\u001b[0;32m     19\u001b[0m     is_datetime64tz_dtype,\n\u001b[0;32m     20\u001b[0m     is_datetimelike_v_numeric,\n\u001b[0;32m     21\u001b[0m     is_dtype_equal,\n\u001b[0;32m     22\u001b[0m     is_extension_array_dtype,\n\u001b[0;32m     23\u001b[0m     is_float_dtype,\n\u001b[0;32m     24\u001b[0m     is_integer_dtype,\n\u001b[0;32m     25\u001b[0m     is_object_dtype,\n\u001b[0;32m     26\u001b[0m     is_period_dtype,\n\u001b[0;32m     27\u001b[0m     is_scalar,\n\u001b[0;32m     28\u001b[0m     is_string_dtype,\n\u001b[0;32m     29\u001b[0m     is_string_like_dtype,\n\u001b[0;32m     30\u001b[0m     is_timedelta64_dtype,\n\u001b[0;32m     31\u001b[0m     needs_i8_conversion,\n\u001b[0;32m     32\u001b[0m     pandas_dtype,\n\u001b[0;32m     33\u001b[0m )\n\u001b[0;32m     34\u001b[0m \u001b[39mfrom\u001b[39;00m \u001b[39mpandas\u001b[39;00m\u001b[39m.\u001b[39;00m\u001b[39mcore\u001b[39;00m\u001b[39m.\u001b[39;00m\u001b[39mdtypes\u001b[39;00m\u001b[39m.\u001b[39;00m\u001b[39mgeneric\u001b[39;00m \u001b[39mimport\u001b[39;00m (\n\u001b[0;32m     35\u001b[0m     ABCDatetimeArray,\n\u001b[0;32m     36\u001b[0m     ABCExtensionArray,\n\u001b[1;32m   (...)\u001b[0m\n\u001b[0;32m     41\u001b[0m     ABCTimedeltaArray,\n\u001b[0;32m     42\u001b[0m )\n\u001b[0;32m     43\u001b[0m \u001b[39mfrom\u001b[39;00m \u001b[39mpandas\u001b[39;00m\u001b[39m.\u001b[39;00m\u001b[39mcore\u001b[39;00m\u001b[39m.\u001b[39;00m\u001b[39mdtypes\u001b[39;00m\u001b[39m.\u001b[39;00m\u001b[39minference\u001b[39;00m \u001b[39mimport\u001b[39;00m is_list_like\n",
      "\u001b[1;31mImportError\u001b[0m: cannot import name '_NS_DTYPE' from 'pandas.core.dtypes.common' (c:\\Users\\20193635\\Desktop\\VA\\.venv\\lib\\site-packages\\pandas\\core\\dtypes\\common.py)"
     ]
    }
   ],
   "source": [
    "import pandas #pandas ver\n",
    "pandas.__version__"
   ]
  },
  {
   "cell_type": "code",
   "execution_count": 7,
   "metadata": {},
   "outputs": [
    {
     "name": "stdout",
     "output_type": "stream",
     "text": [
      "Package                   Version\n",
      "------------------------- ---------\n",
      "asgiref                   3.6.0\n",
      "asttokens                 2.2.1\n",
      "backcall                  0.2.0\n",
      "backports.zoneinfo        0.2.1\n",
      "bleach                    6.0.0\n",
      "bokeh                     2.4.3\n",
      "Brotli                    1.0.7\n",
      "certifi                   2022.12.7\n",
      "charset-normalizer        3.1.0\n",
      "click                     7.1.2\n",
      "colorama                  0.4.6\n",
      "colorcet                  3.0.1\n",
      "colour                    0.1.5\n",
      "comm                      0.1.3\n",
      "cycler                    0.11.0\n",
      "dash                      1.12.0\n",
      "dash-bootstrap-components 0.10.0\n",
      "dash-core-components      1.10.0\n",
      "dash-html-components      1.0.3\n",
      "dash-renderer             1.4.1\n",
      "dash-table                4.7.0\n",
      "DateTime                  4.3\n",
      "debugpy                   1.6.6\n",
      "decorator                 5.1.1\n",
      "dj-database-url           1.2.0\n",
      "Django                    4.1.7\n",
      "django-heroku             0.3.1\n",
      "executing                 1.2.0\n",
      "Flask                     1.1.2\n",
      "Flask-Compress            1.5.0\n",
      "future                    0.18.2\n",
      "gunicorn                  20.0.4\n",
      "holoviews                 1.15.4\n",
      "idna                      3.4\n",
      "importlib-metadata        6.1.0\n",
      "ipykernel                 6.22.0\n",
      "ipython                   8.11.0\n",
      "itsdangerous              1.1.0\n",
      "jedi                      0.18.2\n",
      "Jinja2                    2.11.2\n",
      "joblib                    1.2.0\n",
      "jupyter_client            8.1.0\n",
      "jupyter_core              5.3.0\n",
      "kiwisolver                1.4.4\n",
      "Markdown                  3.4.3\n",
      "MarkupSafe                1.1.1\n",
      "matplotlib                3.1.3\n",
      "matplotlib-inline         0.1.6\n",
      "nest-asyncio              1.5.6\n",
      "networkx                  3.0\n",
      "nltk                      3.8.1\n",
      "numpy                     1.18.4\n",
      "packaging                 23.0\n",
      "pandas                    1.0.3\n",
      "panel                     0.14.4\n",
      "param                     1.13.0\n",
      "parso                     0.8.3\n",
      "patsy                     0.5.1\n",
      "pickleshare               0.7.5\n",
      "Pillow                    9.4.0\n",
      "pip                       23.0.1\n",
      "platformdirs              3.2.0\n",
      "plotly                    4.14.3\n",
      "plotly-express            0.4.1\n",
      "prompt-toolkit            3.0.38\n",
      "psutil                    5.9.4\n",
      "psycopg2                  2.9.5\n",
      "pure-eval                 0.2.2\n",
      "pyct                      0.5.0\n",
      "Pygments                  2.14.0\n",
      "pyparsing                 3.0.9\n",
      "python-dateutil           2.8.2\n",
      "pytz                      2020.1\n",
      "pyviz-comms               2.2.1\n",
      "pywin32                   306\n",
      "PyYAML                    6.0\n",
      "pyzmq                     25.0.2\n",
      "regex                     2023.3.23\n",
      "requests                  2.28.2\n",
      "retrying                  1.3.3\n",
      "scipy                     1.4.1\n",
      "seaborn                   0.10.0\n",
      "setuptools                56.0.0\n",
      "six                       1.14.0\n",
      "sqlparse                  0.4.3\n",
      "stack-data                0.6.2\n",
      "statsmodels               0.11.1\n",
      "tornado                   6.2\n",
      "tqdm                      4.65.0\n",
      "traitlets                 5.9.0\n",
      "typing_extensions         4.5.0\n",
      "tzdata                    2023.2\n",
      "urllib3                   1.26.15\n",
      "wcwidth                   0.2.6\n",
      "webencodings              0.5.1\n",
      "Werkzeug                  1.0.1\n",
      "whitenoise                5.2.0\n",
      "xlrd                      1.2.0\n",
      "zipp                      3.15.0\n",
      "zope.interface            5.1.0\n",
      "Note: you may need to restart the kernel to use updated packages.\n"
     ]
    }
   ],
   "source": [
    "pip list"
   ]
  },
  {
   "cell_type": "code",
   "execution_count": null,
   "metadata": {},
   "outputs": [],
   "source": []
  }
 ],
 "metadata": {
  "kernelspec": {
   "display_name": ".venv",
   "language": "python",
   "name": "python3"
  },
  "language_info": {
   "codemirror_mode": {
    "name": "ipython",
    "version": 3
   },
   "file_extension": ".py",
   "mimetype": "text/x-python",
   "name": "python",
   "nbconvert_exporter": "python",
   "pygments_lexer": "ipython3",
   "version": "3.8.10"
  },
  "orig_nbformat": 4
 },
 "nbformat": 4,
 "nbformat_minor": 2
}
